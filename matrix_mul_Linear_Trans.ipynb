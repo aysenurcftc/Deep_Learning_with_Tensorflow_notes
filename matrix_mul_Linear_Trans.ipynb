{
  "nbformat": 4,
  "nbformat_minor": 0,
  "metadata": {
    "colab": {
      "provenance": [],
      "authorship_tag": "ABX9TyN0lwVd2BVBp0UxTaeJLhTb",
      "include_colab_link": true
    },
    "kernelspec": {
      "name": "python3",
      "display_name": "Python 3"
    },
    "language_info": {
      "name": "python"
    }
  },
  "cells": [
    {
      "cell_type": "markdown",
      "metadata": {
        "id": "view-in-github",
        "colab_type": "text"
      },
      "source": [
        "<a href=\"https://colab.research.google.com/github/NurFortuna/Deep_Learning_with_Tensorflow_notes/blob/main/matrix_mul_Linear_Trans.ipynb\" target=\"_parent\"><img src=\"https://colab.research.google.com/assets/colab-badge.svg\" alt=\"Open In Colab\"/></a>"
      ]
    },
    {
      "cell_type": "code",
      "execution_count": 1,
      "metadata": {
        "id": "CWrLXVqxzIyV"
      },
      "outputs": [],
      "source": [
        "import numpy as np"
      ]
    },
    {
      "cell_type": "markdown",
      "source": [
        "## Matrix Multiplication"
      ],
      "metadata": {
        "id": "PIcDkEda9aD3"
      }
    },
    {
      "cell_type": "code",
      "source": [
        "A = np.array([[4, 9, 2], [8, 1, 6], [1, 2, 3]])\n",
        "print(\"(3 x 3) Matris A :\\n\", A)\n",
        "\n",
        "B = np.array([[2, 2], [4, 7], [3, 3]])\n",
        "print(\"(3 x 2) Matris B:\\n\", B)"
      ],
      "metadata": {
        "colab": {
          "base_uri": "https://localhost:8080/"
        },
        "id": "uP_F-39JzOIV",
        "outputId": "299fe6bd-f80e-475d-9af1-b3e33e814926"
      },
      "execution_count": 12,
      "outputs": [
        {
          "output_type": "stream",
          "name": "stdout",
          "text": [
            "(3 x 3) Matris A :\n",
            " [[4 9 2]\n",
            " [8 1 6]\n",
            " [1 2 3]]\n",
            "(3 x 2) Matris B:\n",
            " [[2 2]\n",
            " [4 7]\n",
            " [3 3]]\n"
          ]
        }
      ]
    },
    {
      "cell_type": "code",
      "source": [
        "#np.matmul -> iki array'in matris çarpımını döndürür.\n",
        "np.matmul(A, B)"
      ],
      "metadata": {
        "colab": {
          "base_uri": "https://localhost:8080/"
        },
        "id": "ADF2Ee8vzP19",
        "outputId": "2092d812-6465-42c8-9993-d3cdf0c27c5d"
      },
      "execution_count": 3,
      "outputs": [
        {
          "output_type": "execute_result",
          "data": {
            "text/plain": [
              "array([[ 89, 107],\n",
              "       [ 47,  49],\n",
              "       [ 40,  44]])"
            ]
          },
          "metadata": {},
          "execution_count": 3
        }
      ]
    },
    {
      "cell_type": "code",
      "source": [
        "#@ işlevide np.matmul gibi bize matris çarpımını döndürür.\n",
        "A @ B"
      ],
      "metadata": {
        "colab": {
          "base_uri": "https://localhost:8080/"
        },
        "id": "SocRGTDpzgz_",
        "outputId": "d1b3daf6-23ac-4208-bfa6-da2de311aa8f"
      },
      "execution_count": 4,
      "outputs": [
        {
          "output_type": "execute_result",
          "data": {
            "text/plain": [
              "array([[ 89, 107],\n",
              "       [ 47,  49],\n",
              "       [ 40,  44]])"
            ]
          },
          "metadata": {},
          "execution_count": 4
        }
      ]
    },
    {
      "cell_type": "code",
      "source": [
        "#Matris çarpımında A matrisinin sutun sayısının B matrisinin satır sayısına eşit \n",
        "#olduğuna dikkat edin. Aksi durumda hata verecektir.\n",
        "try:\n",
        "    np.matmul(B, A)\n",
        "except ValueError as err:\n",
        "    print(err)"
      ],
      "metadata": {
        "colab": {
          "base_uri": "https://localhost:8080/"
        },
        "id": "sMOHOfzczjg1",
        "outputId": "d310a180-64ca-45b7-add0-4d696ab2fcbe"
      },
      "execution_count": 13,
      "outputs": [
        {
          "output_type": "stream",
          "name": "stdout",
          "text": [
            "matmul: Input operand 1 has a mismatch in its core dimension 0, with gufunc signature (n?,k),(k,m?)->(n?,m?) (size 3 is different from 2)\n"
          ]
        }
      ]
    },
    {
      "cell_type": "code",
      "source": [
        "try:\n",
        "    B @ A\n",
        "except ValueError as err:\n",
        "    print(err)"
      ],
      "metadata": {
        "colab": {
          "base_uri": "https://localhost:8080/"
        },
        "id": "qTWeCSSC0I-9",
        "outputId": "b25d2b24-44bc-4ce8-ac52-31b58c8f69fd"
      },
      "execution_count": 14,
      "outputs": [
        {
          "output_type": "stream",
          "name": "stdout",
          "text": [
            "matmul: Input operand 1 has a mismatch in its core dimension 0, with gufunc signature (n?,k),(k,m?)->(n?,m?) (size 3 is different from 2)\n"
          ]
        }
      ]
    },
    {
      "cell_type": "code",
      "source": [
        "#Broadcasting  -> numpy'da farklı shape'e sahip dizileri işleme yeteneğini ifade eder.\n",
        "np.dot(A, B)"
      ],
      "metadata": {
        "colab": {
          "base_uri": "https://localhost:8080/"
        },
        "id": "0OTcodBz08i7",
        "outputId": "4beb0b63-a866-4517-ff7f-b65d99c5440a"
      },
      "execution_count": 11,
      "outputs": [
        {
          "output_type": "execute_result",
          "data": {
            "text/plain": [
              "array([[ 89, 107],\n",
              "       [ 47,  49],\n",
              "       [ 40,  44]])"
            ]
          },
          "metadata": {},
          "execution_count": 11
        }
      ]
    },
    {
      "cell_type": "code",
      "source": [
        "A + 5"
      ],
      "metadata": {
        "colab": {
          "base_uri": "https://localhost:8080/"
        },
        "id": "c_F9o7Vn1kkx",
        "outputId": "a1c43721-6a07-4264-ccdf-d2dbc41cb449"
      },
      "execution_count": 15,
      "outputs": [
        {
          "output_type": "execute_result",
          "data": {
            "text/plain": [
              "array([[ 9, 14,  7],\n",
              "       [13,  6, 11],\n",
              "       [ 6,  7,  8]])"
            ]
          },
          "metadata": {},
          "execution_count": 15
        }
      ]
    },
    {
      "cell_type": "markdown",
      "source": [
        "##Linear Transformations"
      ],
      "metadata": {
        "id": "BLKU3ufJ9XYb"
      }
    },
    {
      "cell_type": "markdown",
      "source": [
        "![image.png](data:image/png;base64,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)"
      ],
      "metadata": {
        "id": "XUXTu0PV-U0j"
      }
    },
    {
      "cell_type": "code",
      "source": [
        "u = np.array([[1], [-1]])\n",
        "v = np.array([[2], [4]])\n",
        "\n",
        "k = 5\n",
        "\n",
        "print(\"T(k*v):\\n\", T(k*v), \"\\n k*T(v):\\n\", k*T(v), \"\\n\\n\")\n",
        "print(\"T(u+v):\\n\", T(u+v), \"\\n T(u)+T(v):\\n\", T(u)+T(v))"
      ],
      "metadata": {
        "colab": {
          "base_uri": "https://localhost:8080/"
        },
        "id": "z34YrFHX9uaR",
        "outputId": "43ff4097-25e2-41ae-b0b2-96165d892924"
      },
      "execution_count": 19,
      "outputs": [
        {
          "output_type": "stream",
          "name": "stdout",
          "text": [
            "T(k*v):\n",
            " [[ 30.]\n",
            " [  0.]\n",
            " [-40.]] \n",
            " k*T(v):\n",
            " [[ 30.]\n",
            " [  0.]\n",
            " [-40.]] \n",
            "\n",
            "\n",
            "T(u+v):\n",
            " [[ 9.]\n",
            " [ 0.]\n",
            " [-6.]] \n",
            " T(u)+T(v):\n",
            " [[ 9.]\n",
            " [ 0.]\n",
            " [-6.]]\n"
          ]
        }
      ]
    },
    {
      "cell_type": "markdown",
      "source": [
        "𝐿:ℝ𝑚→ℝ𝑛\n",
        "  be defined by a matrix  𝐴\n",
        " , where  𝐿(𝑣)=𝐴𝑣\n",
        " , multiplication of the matrix  𝐴\n",
        "  ( 𝑛×𝑚\n",
        " ) and vector  𝑣\n",
        "  ( 𝑚×1\n",
        " ) resulting in the vector  𝑤\n",
        "  ( 𝑛×1\n",
        " )."
      ],
      "metadata": {
        "id": "-z8sHecY_Fr1"
      }
    },
    {
      "cell_type": "code",
      "source": [
        "# matris A(3x2) and vector v(2x1) -> sonuc w(3x1)\n",
        "def L(v):\n",
        "    A = np.array([[3,1], [1,1], [1,-3]])\n",
        "    print(\"Transformation matrix:\\n\", A, \"\\n\")\n",
        "    w = A @ v\n",
        "    \n",
        "    return w\n",
        "\n",
        "v = np.array([[3], [5]])\n",
        "w = L(v)\n",
        "\n",
        "print(\"Original vector:\\n\", v, \"\\n\\n Result of the transformation:\\n\", w)\n",
        "print(\"w shape :\\n\", w.shape)"
      ],
      "metadata": {
        "colab": {
          "base_uri": "https://localhost:8080/"
        },
        "id": "b0nJmzLI-Yox",
        "outputId": "cd2cfc00-2962-4c2b-d6d1-305261c49c22"
      },
      "execution_count": 22,
      "outputs": [
        {
          "output_type": "stream",
          "name": "stdout",
          "text": [
            "Transformation matrix:\n",
            " [[ 3  1]\n",
            " [ 1  1]\n",
            " [ 1 -3]] \n",
            "\n",
            "Original vector:\n",
            " [[3]\n",
            " [5]] \n",
            "\n",
            " Result of the transformation:\n",
            " [[ 14]\n",
            " [  8]\n",
            " [-12]]\n",
            "w shape :\n",
            " (3, 1)\n"
          ]
        }
      ]
    },
    {
      "cell_type": "code",
      "source": [
        "#Horizontal Scaling (Dilation)\n",
        "def T_hscaling(v):\n",
        "    A = np.array([[2,0], [0,3]])\n",
        "    w = A @ v\n",
        "    \n",
        "    return w\n",
        "    \n",
        "    \n",
        "def transform_vectors(T, v1, v2):\n",
        "    V = np.hstack((v1.reshape(2,1), v2.reshape(2,1)))\n",
        "    W = T(V)\n",
        "    \n",
        "    return W\n",
        "    \n",
        "e1 = np.array([[1], [0]])\n",
        "e2 = np.array([[0], [1]])\n",
        "\n",
        "transformation_result_hscaling = transform_vectors(T_hscaling, e1, e2)\n",
        "\n",
        "print(\"Original vectors:\\n e1= \\n\", e1, \"\\n e2=\\n\", e2, \n",
        "      \"\\n\\n Result of the transformation (matrix form):\\n\", transformation_result_hscaling)"
      ],
      "metadata": {
        "colab": {
          "base_uri": "https://localhost:8080/"
        },
        "id": "uz57ReM4_hjt",
        "outputId": "3a5c2ce3-4814-410c-a144-86511920a664"
      },
      "execution_count": 24,
      "outputs": [
        {
          "output_type": "stream",
          "name": "stdout",
          "text": [
            "Original vectors:\n",
            " e1= \n",
            " [[1]\n",
            " [0]] \n",
            " e2=\n",
            " [[0]\n",
            " [1]] \n",
            "\n",
            " Result of the transformation (matrix form):\n",
            " [[2 0]\n",
            " [0 3]]\n"
          ]
        }
      ]
    },
    {
      "cell_type": "code",
      "source": [
        "#Reflection about y-axis (the vertical axis)\n",
        "def T_reflection_yaxis(v):\n",
        "    A = np.array([[-1,0], [0,1]])\n",
        "    w = A @ v\n",
        "    \n",
        "    return w\n",
        "    \n",
        "e1 = np.array([[1], [0]])\n",
        "e2 = np.array([[0], [1]])\n",
        "\n",
        "transformation_result_reflection_yaxis = transform_vectors(T_reflection_yaxis, e1, e2)\n",
        "\n",
        "print(\"Original vectors:\\n e1= \\n\", e1,\"\\n e2=\\n\", e2, \n",
        "      \"\\n\\n Result of the transformation (matrix form):\\n\", transformation_result_reflection_yaxis)"
      ],
      "metadata": {
        "colab": {
          "base_uri": "https://localhost:8080/"
        },
        "id": "Km3vqmCEBIJz",
        "outputId": "b737c1c7-16d2-408e-9514-ab9c109d617e"
      },
      "execution_count": 25,
      "outputs": [
        {
          "output_type": "stream",
          "name": "stdout",
          "text": [
            "Original vectors:\n",
            " e1= \n",
            " [[1]\n",
            " [0]] \n",
            " e2=\n",
            " [[0]\n",
            " [1]] \n",
            "\n",
            " Result of the transformation (matrix form):\n",
            " [[-1  0]\n",
            " [ 0  1]]\n"
          ]
        }
      ]
    }
  ]
}